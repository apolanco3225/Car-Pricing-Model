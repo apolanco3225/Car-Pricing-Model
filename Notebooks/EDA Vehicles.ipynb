{
 "cells": [
  {
   "cell_type": "markdown",
   "id": "8a709c9f-4129-42b0-8eb6-934385a41375",
   "metadata": {},
   "source": [
    "# Exploring the Vehicles Dataset"
   ]
  },
  {
   "cell_type": "code",
   "execution_count": 1,
   "id": "0a0286e0-8994-4c4c-926f-794f323532c2",
   "metadata": {},
   "outputs": [],
   "source": [
    "# import necessary packages\n",
    "import pandas as pd\n",
    "import matplotlib.pyplot as plt\n",
    "import seaborn as sns\n",
    "sns.set_style(\"darkgrid\")\n",
    "import geopandas as gpd\n",
    "%matplotlib inline"
   ]
  },
  {
   "cell_type": "markdown",
   "id": "6821713f-8ee9-4aef-8b2e-533957511257",
   "metadata": {},
   "source": [
    "I'm going to start with an overview of the dataset:"
   ]
  },
  {
   "cell_type": "code",
   "execution_count": 2,
   "id": "03aedf83-83e1-4da1-899c-a8322c19a1e9",
   "metadata": {},
   "outputs": [
    {
     "data": {
      "text/html": [
       "<div>\n",
       "<style scoped>\n",
       "    .dataframe tbody tr th:only-of-type {\n",
       "        vertical-align: middle;\n",
       "    }\n",
       "\n",
       "    .dataframe tbody tr th {\n",
       "        vertical-align: top;\n",
       "    }\n",
       "\n",
       "    .dataframe thead th {\n",
       "        text-align: right;\n",
       "    }\n",
       "</style>\n",
       "<table border=\"1\" class=\"dataframe\">\n",
       "  <thead>\n",
       "    <tr style=\"text-align: right;\">\n",
       "      <th></th>\n",
       "      <th>region</th>\n",
       "      <th>price</th>\n",
       "      <th>year</th>\n",
       "      <th>manufacturer</th>\n",
       "      <th>model</th>\n",
       "      <th>condition</th>\n",
       "      <th>cylinders</th>\n",
       "      <th>fuel</th>\n",
       "      <th>odometer</th>\n",
       "      <th>title_status</th>\n",
       "      <th>...</th>\n",
       "      <th>vin</th>\n",
       "      <th>drive</th>\n",
       "      <th>size</th>\n",
       "      <th>type</th>\n",
       "      <th>paint_color</th>\n",
       "      <th>description</th>\n",
       "      <th>county</th>\n",
       "      <th>state</th>\n",
       "      <th>lat</th>\n",
       "      <th>long</th>\n",
       "    </tr>\n",
       "  </thead>\n",
       "  <tbody>\n",
       "    <tr>\n",
       "      <th>0</th>\n",
       "      <td>palm springs</td>\n",
       "      <td>3400</td>\n",
       "      <td>2002.0</td>\n",
       "      <td>volkswagen</td>\n",
       "      <td>jetta gls</td>\n",
       "      <td>excellent</td>\n",
       "      <td>4 cylinders</td>\n",
       "      <td>gas</td>\n",
       "      <td>100000.0</td>\n",
       "      <td>clean</td>\n",
       "      <td>...</td>\n",
       "      <td>WVWSK61J62W209823</td>\n",
       "      <td>NaN</td>\n",
       "      <td>NaN</td>\n",
       "      <td>wagon</td>\n",
       "      <td>NaN</td>\n",
       "      <td>This 2002 Volkswagen Jetta GLS Wagon is simply...</td>\n",
       "      <td>NaN</td>\n",
       "      <td>ca</td>\n",
       "      <td>33.7451</td>\n",
       "      <td>-116.3520</td>\n",
       "    </tr>\n",
       "    <tr>\n",
       "      <th>1</th>\n",
       "      <td>salem</td>\n",
       "      <td>6300</td>\n",
       "      <td>2004.0</td>\n",
       "      <td>chevrolet</td>\n",
       "      <td>silverado 2500 crew cab</td>\n",
       "      <td>NaN</td>\n",
       "      <td>8 cylinders</td>\n",
       "      <td>gas</td>\n",
       "      <td>208942.0</td>\n",
       "      <td>clean</td>\n",
       "      <td>...</td>\n",
       "      <td>1GCHK23U94F144317</td>\n",
       "      <td>4wd</td>\n",
       "      <td>NaN</td>\n",
       "      <td>pickup</td>\n",
       "      <td>white</td>\n",
       "      <td>We want to let you know up front that Synergiz...</td>\n",
       "      <td>NaN</td>\n",
       "      <td>or</td>\n",
       "      <td>44.9225</td>\n",
       "      <td>-123.3200</td>\n",
       "    </tr>\n",
       "    <tr>\n",
       "      <th>2</th>\n",
       "      <td>long island</td>\n",
       "      <td>9997</td>\n",
       "      <td>2011.0</td>\n",
       "      <td>nissan</td>\n",
       "      <td>xterra</td>\n",
       "      <td>excellent</td>\n",
       "      <td>NaN</td>\n",
       "      <td>gas</td>\n",
       "      <td>125666.0</td>\n",
       "      <td>clean</td>\n",
       "      <td>...</td>\n",
       "      <td>5N1AN0NWXBC502031</td>\n",
       "      <td>NaN</td>\n",
       "      <td>NaN</td>\n",
       "      <td>NaN</td>\n",
       "      <td>NaN</td>\n",
       "      <td>Year : 2011   \\t\\t  Make : NISSAN   \\t\\t\\tMode...</td>\n",
       "      <td>NaN</td>\n",
       "      <td>ny</td>\n",
       "      <td>40.8004</td>\n",
       "      <td>-73.0058</td>\n",
       "    </tr>\n",
       "    <tr>\n",
       "      <th>3</th>\n",
       "      <td>amarillo</td>\n",
       "      <td>21504</td>\n",
       "      <td>2017.0</td>\n",
       "      <td>chevrolet</td>\n",
       "      <td>malibu</td>\n",
       "      <td>NaN</td>\n",
       "      <td>4 cylinders</td>\n",
       "      <td>gas</td>\n",
       "      <td>24218.0</td>\n",
       "      <td>clean</td>\n",
       "      <td>...</td>\n",
       "      <td>NaN</td>\n",
       "      <td>fwd</td>\n",
       "      <td>mid-size</td>\n",
       "      <td>sedan</td>\n",
       "      <td>red</td>\n",
       "      <td>Use this link to see more information on this ...</td>\n",
       "      <td>NaN</td>\n",
       "      <td>tx</td>\n",
       "      <td>35.1773</td>\n",
       "      <td>-101.7940</td>\n",
       "    </tr>\n",
       "    <tr>\n",
       "      <th>4</th>\n",
       "      <td>inland empire</td>\n",
       "      <td>28900</td>\n",
       "      <td>2009.0</td>\n",
       "      <td>cadillac</td>\n",
       "      <td>cts-v</td>\n",
       "      <td>excellent</td>\n",
       "      <td>8 cylinders</td>\n",
       "      <td>gas</td>\n",
       "      <td>61000.0</td>\n",
       "      <td>clean</td>\n",
       "      <td>...</td>\n",
       "      <td>NaN</td>\n",
       "      <td>rwd</td>\n",
       "      <td>mid-size</td>\n",
       "      <td>sedan</td>\n",
       "      <td>silver</td>\n",
       "      <td>2009 CTS-V, FAST! Awesome car, super clean, we...</td>\n",
       "      <td>NaN</td>\n",
       "      <td>ca</td>\n",
       "      <td>33.9748</td>\n",
       "      <td>-117.5580</td>\n",
       "    </tr>\n",
       "  </tbody>\n",
       "</table>\n",
       "<p>5 rows × 21 columns</p>\n",
       "</div>"
      ],
      "text/plain": [
       "          region  price    year manufacturer                    model  \\\n",
       "0   palm springs   3400  2002.0   volkswagen                jetta gls   \n",
       "1          salem   6300  2004.0    chevrolet  silverado 2500 crew cab   \n",
       "2    long island   9997  2011.0       nissan                   xterra   \n",
       "3       amarillo  21504  2017.0    chevrolet                   malibu   \n",
       "4  inland empire  28900  2009.0     cadillac                    cts-v   \n",
       "\n",
       "   condition    cylinders fuel  odometer title_status  ...                vin  \\\n",
       "0  excellent  4 cylinders  gas  100000.0        clean  ...  WVWSK61J62W209823   \n",
       "1        NaN  8 cylinders  gas  208942.0        clean  ...  1GCHK23U94F144317   \n",
       "2  excellent          NaN  gas  125666.0        clean  ...  5N1AN0NWXBC502031   \n",
       "3        NaN  4 cylinders  gas   24218.0        clean  ...                NaN   \n",
       "4  excellent  8 cylinders  gas   61000.0        clean  ...                NaN   \n",
       "\n",
       "  drive      size    type paint_color  \\\n",
       "0   NaN       NaN   wagon         NaN   \n",
       "1   4wd       NaN  pickup       white   \n",
       "2   NaN       NaN     NaN         NaN   \n",
       "3   fwd  mid-size   sedan         red   \n",
       "4   rwd  mid-size   sedan      silver   \n",
       "\n",
       "                                         description county  state      lat  \\\n",
       "0  This 2002 Volkswagen Jetta GLS Wagon is simply...    NaN     ca  33.7451   \n",
       "1  We want to let you know up front that Synergiz...    NaN     or  44.9225   \n",
       "2  Year : 2011   \\t\\t  Make : NISSAN   \\t\\t\\tMode...    NaN     ny  40.8004   \n",
       "3  Use this link to see more information on this ...    NaN     tx  35.1773   \n",
       "4  2009 CTS-V, FAST! Awesome car, super clean, we...    NaN     ca  33.9748   \n",
       "\n",
       "       long  \n",
       "0 -116.3520  \n",
       "1 -123.3200  \n",
       "2  -73.0058  \n",
       "3 -101.7940  \n",
       "4 -117.5580  \n",
       "\n",
       "[5 rows x 21 columns]"
      ]
     },
     "execution_count": 2,
     "metadata": {},
     "output_type": "execute_result"
    }
   ],
   "source": [
    "vehicles_df = pd.read_csv(\"vehicles.csv\")\n",
    "vehicles_df.head()"
   ]
  },
  {
   "cell_type": "markdown",
   "id": "5952376d-4c6d-41a6-8355-875adac638a5",
   "metadata": {},
   "source": [
    "The dataset contains 26988 registers and 21 columns:"
   ]
  },
  {
   "cell_type": "code",
   "execution_count": 3,
   "id": "b70a2ff3-b058-4ebb-866e-f1122b220792",
   "metadata": {},
   "outputs": [
    {
     "data": {
      "text/plain": [
       "(26988, 21)"
      ]
     },
     "execution_count": 3,
     "metadata": {},
     "output_type": "execute_result"
    }
   ],
   "source": [
    "vehicles_df.shape"
   ]
  },
  {
   "cell_type": "markdown",
   "id": "00e3a9c4-9587-4275-98f0-0ddcf4deeebe",
   "metadata": {},
   "source": [
    "Let's read and merge the other datasets."
   ]
  },
  {
   "cell_type": "code",
   "execution_count": null,
   "id": "20e95931-dd0a-415a-96fd-a6de934b1383",
   "metadata": {},
   "outputs": [],
   "source": []
  },
  {
   "cell_type": "markdown",
   "id": "45745c94-83e2-4c95-808d-839169530c3f",
   "metadata": {},
   "source": [
    "From those we have 231 duplicated rows, redundant information is not useful, therefore I'm goign to proceed to discard it."
   ]
  },
  {
   "cell_type": "code",
   "execution_count": 4,
   "id": "340a369b-5e9d-404a-b8ee-0d82ca74dc29",
   "metadata": {},
   "outputs": [
    {
     "data": {
      "text/plain": [
       "231"
      ]
     },
     "execution_count": 4,
     "metadata": {},
     "output_type": "execute_result"
    }
   ],
   "source": [
    "vehicles_df.duplicated().sum()"
   ]
  },
  {
   "cell_type": "code",
   "execution_count": 5,
   "id": "e7bbfa2f-b840-4e3d-9bd3-4c8cae93fc9a",
   "metadata": {},
   "outputs": [],
   "source": [
    "vehicles_df.drop_duplicates(inplace=True)"
   ]
  },
  {
   "cell_type": "markdown",
   "id": "c491ea82-b3c7-4727-b2e6-ed843abbae11",
   "metadata": {},
   "source": [
    "This slightly reduced the dataset to 26757 samples:"
   ]
  },
  {
   "cell_type": "code",
   "execution_count": 6,
   "id": "ab06ec78-a13d-4691-8706-baa4995b3d4d",
   "metadata": {},
   "outputs": [
    {
     "data": {
      "text/plain": [
       "(26757, 21)"
      ]
     },
     "execution_count": 6,
     "metadata": {},
     "output_type": "execute_result"
    }
   ],
   "source": [
    "vehicles_df.shape"
   ]
  },
  {
   "cell_type": "markdown",
   "id": "feade6ae-ab63-4698-98ff-b891a9a006ac",
   "metadata": {},
   "source": [
    "Here is a description of every column in the dataset, I'm going to highlight the ones that I consider useful for creating a predictive model:\n",
    "- region: City where the vehicle is located. (String, Categorical feature)\n",
    "- ***price: Price assigned to the car by the dealership (Float, Numerical Target Value)***\n",
    "- ***year: Year when the car was produced (Int, numerical feature)***\n",
    "- ***manufacturer: Brand of the car, company that produced it. (String, categorical feature) (Tesla, Ford, Ferrari)***\n",
    "- ***model: Reference, particular version of a car (String, Categorical feature) (Aventador, Diablo)***\n",
    "- ***condition: Evaluation of the current state of the car (String, Categorical feature) (New, Like new, Excellent, Good,Fair, Salvage)***\n",
    "- ***cylinders: Place inside the combustion engine where the fuel is burned and movement is generated (Int, Numerica Feature)***\n",
    "- ***fuel: Energy source of the car (String, Categorical feature) (Gas, Diesel, Hybrid, Electric)***\n",
    "- ***odometer: Device that measures how many miles the car has been driven. (Int, Numerical Feature)***\n",
    "- ***title_status: Status or lien of the vehicle, establishes if pre-conditions and ownership information of the vehicle. (Clean, Rebuilt, Salvage, Lien, Missing, Parts Missing) (String, Categortical Feature)***\n",
    "- ***transmission: It's the system that transfers the power from the engine to the wheels. (String, Categorical Feature) (Automatic, Manual, Other)***\n",
    "- vin: Vehicle identification number, car's id. (String, Categorical Feature)\n",
    "- ***drive: Location of wheels that receive the power of the engine. (4wd, fwd, rwd) (String, Categorical Feature)***\n",
    "- ***size: How big the car is. (Full-size Mid-size, Compact, Sub-compact) (String, Categorical Feature)***\n",
    "- ***type: Car design. (Sedan, SUV, Pickup, Truck, Coupe, Hatchback, Van, Wagon, Convertible, Mini-Van, Offroad, Bus) (String, Categorical Feature)***\n",
    "- paint_color: Car's color (Red, Blue, etc..)\n",
    "- ***description: Additional text information about the car. (String, Text)***\n",
    "- county: County where the car is located (Only null values, therefore not used.)\n",
    "- state: State where the car is located. (Valid information but not relevant for the model)\n",
    "- lat: Latitude where the car is located.\n",
    "- long: Longitud where the car is located."
   ]
  },
  {
   "cell_type": "markdown",
   "id": "1bd04378-fd7d-47d1-84d7-4e16beb77409",
   "metadata": {},
   "source": [
    "Let's check the location of all of these cars in the US map. "
   ]
  },
  {
   "cell_type": "code",
   "execution_count": 7,
   "id": "2b082f4a-65f9-4e05-a2a0-6815e2b4639a",
   "metadata": {},
   "outputs": [
    {
     "data": {
      "image/png": "[encoded data removed]",
      "text/plain": [
       "<Figure size 576x432 with 1 Axes>"
      ]
     },
     "metadata": {
      "needs_background": "light"
     },
     "output_type": "display_data"
    }
   ],
   "source": [
    "fig, ax = plt.subplots(figsize=(8,6))\n",
    "\n",
    "countries = gpd.read_file(  \n",
    "     gpd.datasets.get_path(\"naturalearth_lowres\"))\n",
    "\n",
    "countries.plot(color=\"lightgrey\", ax=ax)\n",
    "\n",
    "vehicles_df.plot(x=\"long\", y=\"lat\", kind=\"scatter\", ax=ax)\n",
    "plt.show()"
   ]
  },
  {
   "cell_type": "markdown",
   "id": "30281f7c-a83e-4d61-9c0c-cfedbd7b9a43",
   "metadata": {},
   "source": [
    "There are different spots in the map in a different place than the regular map of the US that I know, some of them might be US territories but other could be just errors or cars located very far away from the country. \n",
    "\n",
    "## Dropping useless data for ML Model\n",
    "Since the goal of the project is to predict the price of the car,  I'm discarding features that I don't consider useful for creating the predicting the model. "
   ]
  },
  {
   "cell_type": "code",
   "execution_count": 8,
   "id": "60122845-1f5b-4785-b17b-ce0a88746892",
   "metadata": {},
   "outputs": [],
   "source": [
    "data = vehicles_df.drop(\n",
    "    columns=[\n",
    "        \"region\", \n",
    "        \"vin\", \n",
    "        \"paint_color\", \n",
    "        \"county\", \n",
    "        \"state\", \n",
    "        \"lat\", \n",
    "        \"long\"\n",
    "    ]\n",
    ")"
   ]
  },
  {
   "cell_type": "markdown",
   "id": "cfea3c62-df94-4b89-b089-64778f509fbd",
   "metadata": {},
   "source": [
    "Once the features are defined, is time to check null values in every column:"
   ]
  },
  {
   "cell_type": "code",
   "execution_count": 10,
   "id": "a284e7a9-6cc1-4120-a624-843ca2210efc",
   "metadata": {},
   "outputs": [
    {
     "data": {
      "text/plain": [
       "price               0\n",
       "year               49\n",
       "manufacturer     1163\n",
       "model             415\n",
       "condition       11538\n",
       "cylinders       11188\n",
       "fuel              167\n",
       "odometer         4899\n",
       "title_status      136\n",
       "transmission      236\n",
       "drive            7903\n",
       "size            18475\n",
       "type             7063\n",
       "description         3\n",
       "dtype: int64"
      ]
     },
     "execution_count": 10,
     "metadata": {},
     "output_type": "execute_result"
    }
   ],
   "source": [
    "data.isnull().sum()"
   ]
  },
  {
   "cell_type": "markdown",
   "id": "89162d52-3fec-43b7-9f23-9f4b3f64d73c",
   "metadata": {},
   "source": [
    "This information could be clearer displayed as percentages:"
   ]
  },
  {
   "cell_type": "code",
   "execution_count": 11,
   "id": "120839dd-6474-4a33-97ab-7c12a41dc7d9",
   "metadata": {},
   "outputs": [
    {
     "data": {
      "text/plain": [
       "price            0.000000\n",
       "year             0.183130\n",
       "manufacturer     4.346526\n",
       "model            1.550996\n",
       "condition       43.121426\n",
       "cylinders       41.813357\n",
       "fuel             0.624136\n",
       "odometer        18.309227\n",
       "title_status     0.508278\n",
       "transmission     0.882012\n",
       "drive           29.536196\n",
       "size            69.047352\n",
       "type            26.396831\n",
       "description      0.011212\n",
       "dtype: float64"
      ]
     },
     "execution_count": 11,
     "metadata": {},
     "output_type": "execute_result"
    }
   ],
   "source": [
    "data.isnull().sum() * 100 / len(data)"
   ]
  },
  {
   "cell_type": "markdown",
   "id": "c3d26392-e92b-4f6e-9eae-b1cf4f45f472",
   "metadata": {},
   "source": [
    "I need to be extra carefull at how I'm handling the absence of missing data in the following features:\n",
    "\n",
    "- condition (43%)\n",
    "- cylinders (41%)\n",
    "- odometer (18.5%)\n",
    "- drive (29%)\n",
    "- size (69%)\n",
    "- type (26.5%)\n",
    "\n",
    "Now let's check every single column at the time, to check for corectness on it's values and deal with missing data."
   ]
  },
  {
   "cell_type": "markdown",
   "id": "74c6ab38-10b9-47cd-9ced-6f5a57532d75",
   "metadata": {},
   "source": [
    "# Data Cleaning\n",
    "\n",
    "I'm going over every single column of the dataset to check for proper values and cleaning strategy.\n",
    "\n",
    "1. Price\n",
    "\n",
    "This column has no missing value, let's just check for range."
   ]
  },
  {
   "cell_type": "code",
   "execution_count": 12,
   "id": "60999458-422b-4ade-884d-fa33645ceeae",
   "metadata": {},
   "outputs": [
    {
     "data": {
      "text/plain": [
       "count        26757.000\n",
       "mean         55515.446\n",
       "std        6825105.576\n",
       "min              0.000\n",
       "25%           4495.000\n",
       "50%           9900.000\n",
       "75%          17950.000\n",
       "max     1116080943.000\n",
       "Name: price, dtype: float64"
      ]
     },
     "execution_count": 12,
     "metadata": {},
     "output_type": "execute_result"
    }
   ],
   "source": [
    "pd.set_option('display.float_format', lambda x: '%.3f' % x)\n",
    "data.price.describe()"
   ]
  },
  {
   "cell_type": "markdown",
   "id": "41530059-355b-4313-ba51-db2f7d186c7a",
   "metadata": {},
   "source": [
    "It seems that some of the rows have price 0 value, at first sight it might seem like they are outliers or corrupted data, but getting that price is actually possible in the US."
   ]
  },
  {
   "cell_type": "code",
   "execution_count": 13,
   "id": "5e906818-f60f-4ab6-9e88-94e435075367",
   "metadata": {},
   "outputs": [
    {
     "data": {
      "text/plain": [
       "2248"
      ]
     },
     "execution_count": 13,
     "metadata": {},
     "output_type": "execute_result"
    }
   ],
   "source": [
    "data.query(\"price == 0\").shape[0]"
   ]
  },
  {
   "cell_type": "markdown",
   "id": "e32d765e-a346-4eb1-b5ff-d49722bf6c3f",
   "metadata": {},
   "source": [
    "There are also some outliers, a Honda Civic from 2012 that has a price of one houndred and eleven million dollars (1116080943) 😱. That is clearly an outlier that is going to affect my expected prices, therefore I'm going to delete it, along with other cars with prices higher than a million dollars."
   ]
  },
  {
   "cell_type": "code",
   "execution_count": 14,
   "id": "b41f179e-12bf-4f6a-b749-bb32b7dc09de",
   "metadata": {},
   "outputs": [
    {
     "data": {
      "text/html": [
       "<div>\n",
       "<style scoped>\n",
       "    .dataframe tbody tr th:only-of-type {\n",
       "        vertical-align: middle;\n",
       "    }\n",
       "\n",
       "    .dataframe tbody tr th {\n",
       "        vertical-align: top;\n",
       "    }\n",
       "\n",
       "    .dataframe thead th {\n",
       "        text-align: right;\n",
       "    }\n",
       "</style>\n",
       "<table border=\"1\" class=\"dataframe\">\n",
       "  <thead>\n",
       "    <tr style=\"text-align: right;\">\n",
       "      <th></th>\n",
       "      <th>price</th>\n",
       "      <th>year</th>\n",
       "      <th>manufacturer</th>\n",
       "      <th>model</th>\n",
       "      <th>condition</th>\n",
       "      <th>cylinders</th>\n",
       "      <th>fuel</th>\n",
       "      <th>odometer</th>\n",
       "      <th>title_status</th>\n",
       "      <th>transmission</th>\n",
       "      <th>drive</th>\n",
       "      <th>size</th>\n",
       "      <th>type</th>\n",
       "      <th>description</th>\n",
       "    </tr>\n",
       "  </thead>\n",
       "  <tbody>\n",
       "    <tr>\n",
       "      <th>1449</th>\n",
       "      <td>1234567</td>\n",
       "      <td>1987.000</td>\n",
       "      <td>gmc</td>\n",
       "      <td>sierra</td>\n",
       "      <td>excellent</td>\n",
       "      <td>8 cylinders</td>\n",
       "      <td>gas</td>\n",
       "      <td>nan</td>\n",
       "      <td>clean</td>\n",
       "      <td>automatic</td>\n",
       "      <td>rwd</td>\n",
       "      <td>NaN</td>\n",
       "      <td>NaN</td>\n",
       "      <td>Two owner. Interior redone. New radio and spea...</td>\n",
       "    </tr>\n",
       "    <tr>\n",
       "      <th>12933</th>\n",
       "      <td>1234567</td>\n",
       "      <td>1991.000</td>\n",
       "      <td>ford</td>\n",
       "      <td>mustang</td>\n",
       "      <td>good</td>\n",
       "      <td>8 cylinders</td>\n",
       "      <td>gas</td>\n",
       "      <td>nan</td>\n",
       "      <td>clean</td>\n",
       "      <td>manual</td>\n",
       "      <td>rwd</td>\n",
       "      <td>NaN</td>\n",
       "      <td>NaN</td>\n",
       "      <td>91 Ford Mustang, GT-40,E303 cam, BBK exhaust, ...</td>\n",
       "    </tr>\n",
       "    <tr>\n",
       "      <th>19141</th>\n",
       "      <td>1116080943</td>\n",
       "      <td>2012.000</td>\n",
       "      <td>honda</td>\n",
       "      <td>civic</td>\n",
       "      <td>excellent</td>\n",
       "      <td>NaN</td>\n",
       "      <td>gas</td>\n",
       "      <td>98090.000</td>\n",
       "      <td>clean</td>\n",
       "      <td>automatic</td>\n",
       "      <td>fwd</td>\n",
       "      <td>NaN</td>\n",
       "      <td>coupe</td>\n",
       "      <td>2012 Honda Civic LX Coupe 2D Coupe   Ready To ...</td>\n",
       "    </tr>\n",
       "    <tr>\n",
       "      <th>23703</th>\n",
       "      <td>28003500</td>\n",
       "      <td>2007.000</td>\n",
       "      <td>chevrolet</td>\n",
       "      <td>impala lt</td>\n",
       "      <td>good</td>\n",
       "      <td>6 cylinders</td>\n",
       "      <td>gas</td>\n",
       "      <td>2000.000</td>\n",
       "      <td>clean</td>\n",
       "      <td>automatic</td>\n",
       "      <td>fwd</td>\n",
       "      <td>NaN</td>\n",
       "      <td>NaN</td>\n",
       "      <td>07 CHEVY IMPALA LT 3.5L V6 200K MILES PWR WIND...</td>\n",
       "    </tr>\n",
       "  </tbody>\n",
       "</table>\n",
       "</div>"
      ],
      "text/plain": [
       "            price     year manufacturer      model  condition    cylinders  \\\n",
       "1449      1234567 1987.000          gmc     sierra  excellent  8 cylinders   \n",
       "12933     1234567 1991.000         ford    mustang       good  8 cylinders   \n",
       "19141  1116080943 2012.000        honda      civic  excellent          NaN   \n",
       "23703    28003500 2007.000    chevrolet  impala lt       good  6 cylinders   \n",
       "\n",
       "      fuel  odometer title_status transmission drive size   type  \\\n",
       "1449   gas       nan        clean    automatic   rwd  NaN    NaN   \n",
       "12933  gas       nan        clean       manual   rwd  NaN    NaN   \n",
       "19141  gas 98090.000        clean    automatic   fwd  NaN  coupe   \n",
       "23703  gas  2000.000        clean    automatic   fwd  NaN    NaN   \n",
       "\n",
       "                                             description  \n",
       "1449   Two owner. Interior redone. New radio and spea...  \n",
       "12933  91 Ford Mustang, GT-40,E303 cam, BBK exhaust, ...  \n",
       "19141  2012 Honda Civic LX Coupe 2D Coupe   Ready To ...  \n",
       "23703  07 CHEVY IMPALA LT 3.5L V6 200K MILES PWR WIND...  "
      ]
     },
     "execution_count": 14,
     "metadata": {},
     "output_type": "execute_result"
    }
   ],
   "source": [
    "data.query(\"price > 1_000_000\")"
   ]
  },
  {
   "cell_type": "markdown",
   "id": "b3f96e8e-4d3c-41cf-9ccd-5d42976d0299",
   "metadata": {},
   "source": [
    "I'm going to take into consideration the prices are smaller than a million dollars:"
   ]
  },
  {
   "cell_type": "code",
   "execution_count": 15,
   "id": "5477c488-c657-4fe3-b994-06457b0ac586",
   "metadata": {},
   "outputs": [
    {
     "name": "stdout",
     "output_type": "stream",
     "text": [
      "(26753, 14)\n"
     ]
    },
    {
     "data": {
      "text/html": [
       "<div>\n",
       "<style scoped>\n",
       "    .dataframe tbody tr th:only-of-type {\n",
       "        vertical-align: middle;\n",
       "    }\n",
       "\n",
       "    .dataframe tbody tr th {\n",
       "        vertical-align: top;\n",
       "    }\n",
       "\n",
       "    .dataframe thead th {\n",
       "        text-align: right;\n",
       "    }\n",
       "</style>\n",
       "<table border=\"1\" class=\"dataframe\">\n",
       "  <thead>\n",
       "    <tr style=\"text-align: right;\">\n",
       "      <th></th>\n",
       "      <th>price</th>\n",
       "      <th>year</th>\n",
       "      <th>manufacturer</th>\n",
       "      <th>model</th>\n",
       "      <th>condition</th>\n",
       "      <th>cylinders</th>\n",
       "      <th>fuel</th>\n",
       "      <th>odometer</th>\n",
       "      <th>title_status</th>\n",
       "      <th>transmission</th>\n",
       "      <th>drive</th>\n",
       "      <th>size</th>\n",
       "      <th>type</th>\n",
       "      <th>description</th>\n",
       "    </tr>\n",
       "  </thead>\n",
       "  <tbody>\n",
       "    <tr>\n",
       "      <th>0</th>\n",
       "      <td>3400</td>\n",
       "      <td>2002.000</td>\n",
       "      <td>volkswagen</td>\n",
       "      <td>jetta gls</td>\n",
       "      <td>excellent</td>\n",
       "      <td>4 cylinders</td>\n",
       "      <td>gas</td>\n",
       "      <td>100000.000</td>\n",
       "      <td>clean</td>\n",
       "      <td>automatic</td>\n",
       "      <td>NaN</td>\n",
       "      <td>NaN</td>\n",
       "      <td>wagon</td>\n",
       "      <td>This 2002 Volkswagen Jetta GLS Wagon is simply...</td>\n",
       "    </tr>\n",
       "    <tr>\n",
       "      <th>1</th>\n",
       "      <td>6300</td>\n",
       "      <td>2004.000</td>\n",
       "      <td>chevrolet</td>\n",
       "      <td>silverado 2500 crew cab</td>\n",
       "      <td>NaN</td>\n",
       "      <td>8 cylinders</td>\n",
       "      <td>gas</td>\n",
       "      <td>208942.000</td>\n",
       "      <td>clean</td>\n",
       "      <td>automatic</td>\n",
       "      <td>4wd</td>\n",
       "      <td>NaN</td>\n",
       "      <td>pickup</td>\n",
       "      <td>We want to let you know up front that Synergiz...</td>\n",
       "    </tr>\n",
       "    <tr>\n",
       "      <th>2</th>\n",
       "      <td>9997</td>\n",
       "      <td>2011.000</td>\n",
       "      <td>nissan</td>\n",
       "      <td>xterra</td>\n",
       "      <td>excellent</td>\n",
       "      <td>NaN</td>\n",
       "      <td>gas</td>\n",
       "      <td>125666.000</td>\n",
       "      <td>clean</td>\n",
       "      <td>automatic</td>\n",
       "      <td>NaN</td>\n",
       "      <td>NaN</td>\n",
       "      <td>NaN</td>\n",
       "      <td>Year : 2011   \\t\\t  Make : NISSAN   \\t\\t\\tMode...</td>\n",
       "    </tr>\n",
       "    <tr>\n",
       "      <th>3</th>\n",
       "      <td>21504</td>\n",
       "      <td>2017.000</td>\n",
       "      <td>chevrolet</td>\n",
       "      <td>malibu</td>\n",
       "      <td>NaN</td>\n",
       "      <td>4 cylinders</td>\n",
       "      <td>gas</td>\n",
       "      <td>24218.000</td>\n",
       "      <td>clean</td>\n",
       "      <td>automatic</td>\n",
       "      <td>fwd</td>\n",
       "      <td>mid-size</td>\n",
       "      <td>sedan</td>\n",
       "      <td>Use this link to see more information on this ...</td>\n",
       "    </tr>\n",
       "    <tr>\n",
       "      <th>4</th>\n",
       "      <td>28900</td>\n",
       "      <td>2009.000</td>\n",
       "      <td>cadillac</td>\n",
       "      <td>cts-v</td>\n",
       "      <td>excellent</td>\n",
       "      <td>8 cylinders</td>\n",
       "      <td>gas</td>\n",
       "      <td>61000.000</td>\n",
       "      <td>clean</td>\n",
       "      <td>automatic</td>\n",
       "      <td>rwd</td>\n",
       "      <td>mid-size</td>\n",
       "      <td>sedan</td>\n",
       "      <td>2009 CTS-V, FAST! Awesome car, super clean, we...</td>\n",
       "    </tr>\n",
       "  </tbody>\n",
       "</table>\n",
       "</div>"
      ],
      "text/plain": [
       "   price     year manufacturer                    model  condition  \\\n",
       "0   3400 2002.000   volkswagen                jetta gls  excellent   \n",
       "1   6300 2004.000    chevrolet  silverado 2500 crew cab        NaN   \n",
       "2   9997 2011.000       nissan                   xterra  excellent   \n",
       "3  21504 2017.000    chevrolet                   malibu        NaN   \n",
       "4  28900 2009.000     cadillac                    cts-v  excellent   \n",
       "\n",
       "     cylinders fuel   odometer title_status transmission drive      size  \\\n",
       "0  4 cylinders  gas 100000.000        clean    automatic   NaN       NaN   \n",
       "1  8 cylinders  gas 208942.000        clean    automatic   4wd       NaN   \n",
       "2          NaN  gas 125666.000        clean    automatic   NaN       NaN   \n",
       "3  4 cylinders  gas  24218.000        clean    automatic   fwd  mid-size   \n",
       "4  8 cylinders  gas  61000.000        clean    automatic   rwd  mid-size   \n",
       "\n",
       "     type                                        description  \n",
       "0   wagon  This 2002 Volkswagen Jetta GLS Wagon is simply...  \n",
       "1  pickup  We want to let you know up front that Synergiz...  \n",
       "2     NaN  Year : 2011   \\t\\t  Make : NISSAN   \\t\\t\\tMode...  \n",
       "3   sedan  Use this link to see more information on this ...  \n",
       "4   sedan  2009 CTS-V, FAST! Awesome car, super clean, we...  "
      ]
     },
     "execution_count": 15,
     "metadata": {},
     "output_type": "execute_result"
    }
   ],
   "source": [
    "data = data.query(\"price < 1_000_000\")\n",
    "print(data.shape)\n",
    "data.head()"
   ]
  },
  {
   "cell_type": "markdown",
   "id": "13807c28-6a37-40c8-9051-e7403876b56d",
   "metadata": {},
   "source": [
    "Let's check the price distribution once again:"
   ]
  },
  {
   "cell_type": "code",
   "execution_count": 16,
   "id": "1d62584e-b683-434b-b14f-6ebc2f178e84",
   "metadata": {},
   "outputs": [
    {
     "data": {
      "image/png": "[encoded data removed]",
      "text/plain": [
       "<Figure size 432x288 with 1 Axes>"
      ]
     },
     "metadata": {
      "needs_background": "light"
     },
     "output_type": "display_data"
    }
   ],
   "source": [
    "data.price.hist()\n",
    "plt.title(\"Price Distribution\")\n",
    "plt.xlabel(\"Price\")\n",
    "plt.ylabel(\"Number of Cars\");"
   ]
  },
  {
   "cell_type": "markdown",
   "id": "5312f813-3b15-4e05-b3ad-9b7e4a61c9fb",
   "metadata": {},
   "source": [
    "2. Year"
   ]
  },
  {
   "cell_type": "code",
   "execution_count": 17,
   "id": "acc8153b-cced-4022-a1d6-1b757fef9185",
   "metadata": {},
   "outputs": [
    {
     "data": {
      "text/plain": [
       "count   26704.000\n",
       "mean     2009.936\n",
       "std         8.811\n",
       "min      1900.000\n",
       "25%      2007.000\n",
       "50%      2012.000\n",
       "75%      2015.000\n",
       "max      2021.000\n",
       "Name: year, dtype: float64"
      ]
     },
     "execution_count": 17,
     "metadata": {},
     "output_type": "execute_result"
    }
   ],
   "source": [
    "data.year.describe()"
   ]
  },
  {
   "cell_type": "code",
   "execution_count": 18,
   "id": "5bc187f0-4ce6-4c6c-b81f-9e0b00374c5a",
   "metadata": {},
   "outputs": [
    {
     "data": {
      "image/png": "[encoded data removed]",
      "text/plain": [
       "<Figure size 432x288 with 1 Axes>"
      ]
     },
     "metadata": {
      "needs_background": "light"
     },
     "output_type": "display_data"
    }
   ],
   "source": [
    "data.year.hist()\n",
    "plt.title(\"Year Distribution\")\n",
    "plt.xlabel(\"Year\")\n",
    "plt.ylabel(\"Number of cars\");"
   ]
  },
  {
   "cell_type": "markdown",
   "id": "ac39a4a1-8607-4323-9f44-b359332f06a9",
   "metadata": {},
   "source": [
    "This column seems to be fine. Since almost 2% is missing and the year is such an important feature, I decided to remove all the rows where I don't have information about the year of the car. "
   ]
  },
  {
   "cell_type": "code",
   "execution_count": 19,
   "id": "38b05180-3931-4fe4-8ef7-d6bdb74a4ebc",
   "metadata": {},
   "outputs": [],
   "source": [
    "mask = data['year'].notna()\n",
    "data = data[mask]"
   ]
  },
  {
   "cell_type": "markdown",
   "id": "ffcd64e6-0034-4c91-bc46-4a3e526bb4cc",
   "metadata": {},
   "source": [
    "3. Manufacturer\n",
    "\n",
    "There are 41 unique car manufacturers in this dataset."
   ]
  },
  {
   "cell_type": "code",
   "execution_count": 20,
   "id": "858081a4-c3fc-482c-a2d2-c0a3e6214a14",
   "metadata": {},
   "outputs": [
    {
     "data": {
      "text/plain": [
       "41"
      ]
     },
     "execution_count": 20,
     "metadata": {},
     "output_type": "execute_result"
    }
   ],
   "source": [
    "data.manufacturer.unique().shape[0]"
   ]
  },
  {
   "cell_type": "code",
   "execution_count": 21,
   "id": "c4a2de84-c2d6-436d-823b-0e9adb666515",
   "metadata": {},
   "outputs": [
    {
     "data": {
      "image/png": "[encoded data removed]",
      "text/plain": [
       "<Figure size 720x720 with 1 Axes>"
      ]
     },
     "metadata": {
      "needs_background": "light"
     },
     "output_type": "display_data"
    }
   ],
   "source": [
    "plt.figure(figsize=(10, 10))\n",
    "data.manufacturer.value_counts(ascending=True).plot(kind=\"barh\")\n",
    "plt.title(\"Manufacturers\")\n",
    "plt.ylabel(\"Car Brand\")\n",
    "plt.xlabel(\"Number of Cars\");"
   ]
  },
  {
   "cell_type": "code",
   "execution_count": 22,
   "id": "1a41d5a2-1d60-427d-95ca-b99ecc72b80c",
   "metadata": {},
   "outputs": [],
   "source": [
    "mask = data.manufacturer.notna()\n",
    "data = data[mask]"
   ]
  },
  {
   "cell_type": "markdown",
   "id": "9a7752e0-6bc7-423c-a1bc-ab3e4261f5dd",
   "metadata": {},
   "source": [
    "4. Model\n",
    "\n",
    "There exists 5509 different models in this dataset, I'm afrid the high cardinality of this feature won't allow me to make use of it, therefore I'm going to discard it. "
   ]
  },
  {
   "cell_type": "code",
   "execution_count": 23,
   "id": "b1fb574b-f77c-4906-ba1e-1eba50e1a490",
   "metadata": {},
   "outputs": [
    {
     "data": {
      "text/plain": [
       "5509"
      ]
     },
     "execution_count": 23,
     "metadata": {},
     "output_type": "execute_result"
    }
   ],
   "source": [
    "data.model.unique().shape[0]"
   ]
  },
  {
   "cell_type": "code",
   "execution_count": 24,
   "id": "7e807baf-c191-4058-b570-efe5ea50061f",
   "metadata": {},
   "outputs": [
    {
     "data": {
      "text/plain": [
       "f-150             589\n",
       "silverado 1500    329\n",
       "1500              328\n",
       "silverado         283\n",
       "civic             207\n",
       "altima            204\n",
       "accord            198\n",
       "wrangler          193\n",
       "camry             192\n",
       "2500              189\n",
       "Name: model, dtype: int64"
      ]
     },
     "execution_count": 24,
     "metadata": {},
     "output_type": "execute_result"
    }
   ],
   "source": [
    "data.model.value_counts().nlargest(10)"
   ]
  },
  {
   "cell_type": "code",
   "execution_count": 25,
   "id": "aed1361f-824f-421b-8cac-c6b5f32fabf1",
   "metadata": {},
   "outputs": [],
   "source": [
    "data.drop(columns=[\"model\"], inplace=True)"
   ]
  },
  {
   "cell_type": "markdown",
   "id": "28ba3cbc-151e-4597-be27-8619e72db2be",
   "metadata": {},
   "source": [
    "5. Condition"
   ]
  },
  {
   "cell_type": "code",
   "execution_count": 26,
   "id": "20a86751-5485-4bc5-9b85-58a0556b2787",
   "metadata": {},
   "outputs": [
    {
     "data": {
      "image/png": "[encoded data removed]",
      "text/plain": [
       "<Figure size 432x288 with 1 Axes>"
      ]
     },
     "metadata": {
      "needs_background": "light"
     },
     "output_type": "display_data"
    }
   ],
   "source": [
    "data.condition.value_counts(ascending=True).plot(kind=\"barh\")\n",
    "plt.title(\"Bar Plot Car Condition\")\n",
    "plt.ylabel(\"Condition\")\n",
    "plt.xlabel(\"Number of Cars\");"
   ]
  },
  {
   "cell_type": "code",
   "execution_count": 27,
   "id": "0e406b33-b357-422d-a4a1-9b4fae3f562e",
   "metadata": {},
   "outputs": [],
   "source": [
    "mask = data.condition.notna()\n",
    "data = data[mask]"
   ]
  },
  {
   "cell_type": "markdown",
   "id": "5dca2767-407e-45cb-9743-827c92aa034d",
   "metadata": {},
   "source": [
    "6. Cylinders\n",
    "\n",
    "The data type of the cylinders should be numeric and it seems it a string instead, it's required a small processing to clean it up. "
   ]
  },
  {
   "cell_type": "code",
   "execution_count": 28,
   "id": "4e4dff28-e283-4c12-af7e-184c58f3ba4e",
   "metadata": {},
   "outputs": [
    {
     "data": {
      "text/plain": [
       "6 cylinders     4130\n",
       "8 cylinders     3589\n",
       "4 cylinders     3374\n",
       "10 cylinders     134\n",
       "5 cylinders      100\n",
       "3 cylinders       23\n",
       "other             22\n",
       "12 cylinders       6\n",
       "Name: cylinders, dtype: int64"
      ]
     },
     "execution_count": 28,
     "metadata": {},
     "output_type": "execute_result"
    }
   ],
   "source": [
    "data.cylinders.value_counts()"
   ]
  },
  {
   "cell_type": "code",
   "execution_count": 29,
   "id": "a556fe84-cdbe-49a2-b9a7-019030cb8c0e",
   "metadata": {},
   "outputs": [],
   "source": [
    "mask = data.cylinders.notna()\n",
    "data = data[mask]"
   ]
  },
  {
   "cell_type": "code",
   "execution_count": 30,
   "id": "fd24f756-29bb-44e8-9920-6c4ea83b5910",
   "metadata": {},
   "outputs": [],
   "source": [
    "data.cylinders.replace({\"other\": 0}, inplace=True)"
   ]
  },
  {
   "cell_type": "code",
   "execution_count": 31,
   "id": "c2267c0b-2a6f-4b07-8093-16fc7102226c",
   "metadata": {},
   "outputs": [
    {
     "data": {
      "text/plain": [
       "6     4130\n",
       "8     3589\n",
       "4     3374\n",
       "10     134\n",
       "5      100\n",
       "3       23\n",
       "0       22\n",
       "12       6\n",
       "Name: cylinders, dtype: int64"
      ]
     },
     "execution_count": 31,
     "metadata": {},
     "output_type": "execute_result"
    }
   ],
   "source": [
    "def cylinder_preprocessing(input_string):\n",
    "    if type(input_string) is not str:\n",
    "        return input_string\n",
    "    int_string = input_string[0:2]\n",
    "    return int(int_string)\n",
    "\n",
    "data.cylinders = data.cylinders.apply(cylinder_preprocessing)\n",
    "data.cylinders.value_counts()"
   ]
  },
  {
   "cell_type": "markdown",
   "id": "21d4aa70-e558-4c8a-95ec-a9679202a166",
   "metadata": {},
   "source": [
    "7. Fuel\n",
    "\n",
    "There is only one null value, it's ok to discard it. "
   ]
  },
  {
   "cell_type": "code",
   "execution_count": 32,
   "id": "dd37e018-df44-4017-90b7-77491d700cdb",
   "metadata": {},
   "outputs": [
    {
     "data": {
      "text/plain": [
       "array(['gas', 'other', 'diesel', 'hybrid', 'electric', nan], dtype=object)"
      ]
     },
     "execution_count": 32,
     "metadata": {},
     "output_type": "execute_result"
    }
   ],
   "source": [
    "data.fuel.unique()"
   ]
  },
  {
   "cell_type": "code",
   "execution_count": 33,
   "id": "fc503f56-5c0e-49c6-921f-858b115a9782",
   "metadata": {},
   "outputs": [],
   "source": [
    "mask = data.fuel.notna()\n",
    "data = data[mask]"
   ]
  },
  {
   "cell_type": "code",
   "execution_count": 34,
   "id": "a9d1bfe5-9201-413b-acd4-116ce0ea2bf2",
   "metadata": {},
   "outputs": [
    {
     "data": {
      "text/plain": [
       "gas         10456\n",
       "diesel        674\n",
       "other         120\n",
       "hybrid        114\n",
       "electric       13\n",
       "Name: fuel, dtype: int64"
      ]
     },
     "execution_count": 34,
     "metadata": {},
     "output_type": "execute_result"
    }
   ],
   "source": [
    "data.fuel.value_counts()"
   ]
  },
  {
   "cell_type": "markdown",
   "id": "7e531558-f8c8-43a3-87d9-3a2b82cb1290",
   "metadata": {},
   "source": [
    "8. Odometer\n",
    "\n"
   ]
  },
  {
   "cell_type": "code",
   "execution_count": 35,
   "id": "ab07d602-a97d-411b-8890-3df27d7d5c9f",
   "metadata": {},
   "outputs": [],
   "source": [
    "mask = data.odometer.notna()\n",
    "data = data[mask]"
   ]
  },
  {
   "cell_type": "code",
   "execution_count": 36,
   "id": "352c3554-b878-49af-9786-8c1bb895deb9",
   "metadata": {},
   "outputs": [
    {
     "data": {
      "text/plain": [
       "count      9913.000\n",
       "mean     109844.264\n",
       "std      105796.991\n",
       "min           0.000\n",
       "25%       59257.000\n",
       "50%      103726.000\n",
       "75%      146545.000\n",
       "max     4710000.000\n",
       "Name: odometer, dtype: float64"
      ]
     },
     "execution_count": 36,
     "metadata": {},
     "output_type": "execute_result"
    }
   ],
   "source": [
    "data.odometer.describe()"
   ]
  },
  {
   "cell_type": "code",
   "execution_count": 37,
   "id": "ae1a3adb-9875-418a-9a99-9c2fdac612f9",
   "metadata": {},
   "outputs": [
    {
     "data": {
      "text/plain": [
       "price              0\n",
       "year               0\n",
       "manufacturer       0\n",
       "condition          0\n",
       "cylinders          0\n",
       "fuel               0\n",
       "odometer           0\n",
       "title_status       0\n",
       "transmission       2\n",
       "drive           1298\n",
       "size            4293\n",
       "type            1130\n",
       "description        0\n",
       "dtype: int64"
      ]
     },
     "execution_count": 37,
     "metadata": {},
     "output_type": "execute_result"
    }
   ],
   "source": [
    "data.isnull().sum()"
   ]
  },
  {
   "cell_type": "markdown",
   "id": "66457bf2-cb3b-4f51-b633-4031b246e543",
   "metadata": {},
   "source": [
    "9. Title Status\n",
    "\n"
   ]
  },
  {
   "cell_type": "code",
   "execution_count": 38,
   "id": "7d798961-ab33-4b3b-8cf1-d23fe276c26d",
   "metadata": {},
   "outputs": [
    {
     "data": {
      "text/plain": [
       "clean         9356\n",
       "rebuilt        295\n",
       "salvage        165\n",
       "lien            92\n",
       "missing          4\n",
       "parts only       1\n",
       "Name: title_status, dtype: int64"
      ]
     },
     "execution_count": 38,
     "metadata": {},
     "output_type": "execute_result"
    }
   ],
   "source": [
    "data.title_status.value_counts()"
   ]
  },
  {
   "cell_type": "markdown",
   "id": "b42726b4-e07b-4e6e-bd81-ad0f979eb5c4",
   "metadata": {},
   "source": [
    "10. Transmission"
   ]
  },
  {
   "cell_type": "code",
   "execution_count": 39,
   "id": "041b8fde-d7f7-4e16-bb5f-d685b04fe9ee",
   "metadata": {},
   "outputs": [
    {
     "data": {
      "text/plain": [
       "automatic    8621\n",
       "manual        655\n",
       "other         635\n",
       "Name: transmission, dtype: int64"
      ]
     },
     "execution_count": 39,
     "metadata": {},
     "output_type": "execute_result"
    }
   ],
   "source": [
    "data.transmission.value_counts()"
   ]
  },
  {
   "cell_type": "code",
   "execution_count": 40,
   "id": "6defaf47-6217-4ba4-a312-fa20b3198d7a",
   "metadata": {},
   "outputs": [],
   "source": [
    "mask = data.transmission.notna()\n",
    "data = data[mask]"
   ]
  },
  {
   "cell_type": "markdown",
   "id": "ab379af9-8ac2-4ab8-a54e-35c5797e5bee",
   "metadata": {},
   "source": [
    "11. Drive"
   ]
  },
  {
   "cell_type": "code",
   "execution_count": 41,
   "id": "ec038e8d-0d6d-49a7-9dcf-009cdabb9ed7",
   "metadata": {},
   "outputs": [
    {
     "data": {
      "text/plain": [
       "4wd    3685\n",
       "fwd    2862\n",
       "rwd    2066\n",
       "Name: drive, dtype: int64"
      ]
     },
     "execution_count": 41,
     "metadata": {},
     "output_type": "execute_result"
    }
   ],
   "source": [
    "data.drive.value_counts()"
   ]
  },
  {
   "cell_type": "code",
   "execution_count": 42,
   "id": "20b842c8-b04a-4051-8036-7c6877ed9875",
   "metadata": {},
   "outputs": [],
   "source": [
    "mask = data.drive.notna()\n",
    "data = data[mask]"
   ]
  },
  {
   "cell_type": "markdown",
   "id": "9b243dba-83f2-4280-ae45-fe73c3f84321",
   "metadata": {},
   "source": [
    "12. Size"
   ]
  },
  {
   "cell_type": "code",
   "execution_count": 43,
   "id": "f08f057c-c2a6-4336-9c30-a79aec056b74",
   "metadata": {},
   "outputs": [
    {
     "data": {
      "text/plain": [
       "3202"
      ]
     },
     "execution_count": 43,
     "metadata": {},
     "output_type": "execute_result"
    }
   ],
   "source": [
    "data[\"size\"].isnull().sum()"
   ]
  },
  {
   "cell_type": "code",
   "execution_count": 44,
   "id": "6122402d-1a47-4373-b2d8-52aff3082a48",
   "metadata": {},
   "outputs": [],
   "source": [
    "data.drop(columns=[\"size\"], inplace=True)"
   ]
  },
  {
   "cell_type": "markdown",
   "id": "8adfbaaf-0955-4e32-afbe-58b6ea053db4",
   "metadata": {},
   "source": [
    "13. Type\n"
   ]
  },
  {
   "cell_type": "code",
   "execution_count": 45,
   "id": "7226457e-621d-4fdb-9e7e-769ea7b492d1",
   "metadata": {},
   "outputs": [
    {
     "data": {
      "text/plain": [
       "sedan          1956\n",
       "SUV            1903\n",
       "truck          1208\n",
       "pickup          931\n",
       "coupe           538\n",
       "hatchback       273\n",
       "van             272\n",
       "wagon           214\n",
       "convertible     180\n",
       "mini-van        173\n",
       "other           121\n",
       "offroad          26\n",
       "bus               4\n",
       "Name: type, dtype: int64"
      ]
     },
     "execution_count": 45,
     "metadata": {},
     "output_type": "execute_result"
    }
   ],
   "source": [
    "data.type.value_counts()"
   ]
  },
  {
   "cell_type": "code",
   "execution_count": 46,
   "id": "63e0341a-6cd5-456b-9a15-85fe5f3c021e",
   "metadata": {},
   "outputs": [],
   "source": [
    "mask = data.type.notna()\n",
    "data = data[mask]"
   ]
  },
  {
   "cell_type": "markdown",
   "id": "f5bf0001-e158-4af3-946a-ea4ca8c7d7b9",
   "metadata": {},
   "source": [
    "14. Description\n",
    "\n",
    "This feature won't be considered for the first version of this model."
   ]
  },
  {
   "cell_type": "code",
   "execution_count": 47,
   "id": "984ea68c-fd70-44c5-b9df-2d22f1d5f7e4",
   "metadata": {},
   "outputs": [],
   "source": [
    "data.drop(columns=[\"description\"], inplace=True)"
   ]
  },
  {
   "cell_type": "markdown",
   "id": "d001e654-73e4-434e-a1c9-fe3f66707e2e",
   "metadata": {},
   "source": [
    "Final Dataset"
   ]
  },
  {
   "cell_type": "code",
   "execution_count": 48,
   "id": "d846e8c4-fd08-452e-8a4f-4ed481e71319",
   "metadata": {},
   "outputs": [
    {
     "data": {
      "text/plain": [
       "(7799, 11)"
      ]
     },
     "execution_count": 48,
     "metadata": {},
     "output_type": "execute_result"
    }
   ],
   "source": [
    "data.shape"
   ]
  },
  {
   "cell_type": "code",
   "execution_count": 49,
   "id": "22d94c30-7ab7-4d42-bea0-2a07fc5668d4",
   "metadata": {},
   "outputs": [
    {
     "name": "stdout",
     "output_type": "stream",
     "text": [
      "<class 'pandas.core.frame.DataFrame'>\n",
      "Int64Index: 7799 entries, 4 to 26983\n",
      "Data columns (total 11 columns):\n",
      " #   Column        Non-Null Count  Dtype  \n",
      "---  ------        --------------  -----  \n",
      " 0   price         7799 non-null   int64  \n",
      " 1   year          7799 non-null   float64\n",
      " 2   manufacturer  7799 non-null   object \n",
      " 3   condition     7799 non-null   object \n",
      " 4   cylinders     7799 non-null   int64  \n",
      " 5   fuel          7799 non-null   object \n",
      " 6   odometer      7799 non-null   float64\n",
      " 7   title_status  7799 non-null   object \n",
      " 8   transmission  7799 non-null   object \n",
      " 9   drive         7799 non-null   object \n",
      " 10  type          7799 non-null   object \n",
      "dtypes: float64(2), int64(2), object(7)\n",
      "memory usage: 731.2+ KB\n"
     ]
    }
   ],
   "source": [
    "data.info()"
   ]
  },
  {
   "cell_type": "code",
   "execution_count": 52,
   "id": "66ba6120-8a24-49d2-bc34-9d729f9213bf",
   "metadata": {},
   "outputs": [
    {
     "data": {
      "text/plain": [
       "price           0\n",
       "year            0\n",
       "manufacturer    0\n",
       "condition       0\n",
       "cylinders       0\n",
       "fuel            0\n",
       "odometer        0\n",
       "title_status    0\n",
       "transmission    0\n",
       "drive           0\n",
       "type            0\n",
       "dtype: int64"
      ]
     },
     "execution_count": 52,
     "metadata": {},
     "output_type": "execute_result"
    }
   ],
   "source": [
    "data.isnull().sum()"
   ]
  },
  {
   "cell_type": "code",
   "execution_count": 54,
   "id": "10c13b22-10bf-4494-aeba-b4dade2d68ac",
   "metadata": {},
   "outputs": [
    {
     "data": {
      "text/plain": [
       "351"
      ]
     },
     "execution_count": 54,
     "metadata": {},
     "output_type": "execute_result"
    }
   ],
   "source": [
    "data.duplicated().sum()"
   ]
  },
  {
   "cell_type": "code",
   "execution_count": 55,
   "id": "15c6abfe-cf4f-4fe5-9658-031c54b0be6a",
   "metadata": {},
   "outputs": [],
   "source": [
    "data.drop_duplicates(inplace=True)"
   ]
  },
  {
   "cell_type": "code",
   "execution_count": 57,
   "id": "09ede0d9-c2f3-49b3-aa99-d137dcbb9472",
   "metadata": {},
   "outputs": [],
   "source": [
    "data.to_csv(\"clean_vehicles.csv\", index=False)"
   ]
  },
  {
   "cell_type": "code",
   "execution_count": null,
   "id": "006697be-acdd-482f-9b15-a8400d335650",
   "metadata": {},
   "outputs": [],
   "source": []
  }
 ],
 "metadata": {
  "kernelspec": {
   "display_name": "Python 3.6.13 64-bit ('mlops': conda)",
   "language": "python",
   "name": "python3613jvsc74a57bd0ca9cbc678ce4b6edf4607da2742a10dd8519fe2f3e82dadaab70e9238baed1d4"
  },
  "language_info": {
   "codemirror_mode": {
    "name": "ipython",
    "version": 3
   },
   "file_extension": ".py",
   "mimetype": "text/x-python",
   "name": "python",
   "nbconvert_exporter": "python",
   "pygments_lexer": "ipython3",
   "version": "3.6.13"
  }
 },
 "nbformat": 4,
 "nbformat_minor": 5
}
