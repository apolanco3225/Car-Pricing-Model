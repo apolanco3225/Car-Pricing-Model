{
 "cells": [
  {
   "cell_type": "code",
   "execution_count": 1,
   "id": "b1c2dd82-2775-4130-8823-d7b4dc710135",
   "metadata": {},
   "outputs": [],
   "source": [
    "import pandas as pd\n",
    "from sklearn.model_selection import train_test_split\n",
    "from sklearn.linear_model import LinearRegression \n",
    "from sklearn.pipeline import make_pipeline\n",
    "from sklearn.preprocessing import StandardScaler, OneHotEncoder\n",
    "from sklearn.compose import ColumnTransformer\n",
    "from sklearn.metrics import mean_absolute_error\n",
    "from sklearn.metrics import mean_squared_error"
   ]
  },
  {
   "cell_type": "code",
   "execution_count": 2,
   "id": "c4a75e22-23f5-4163-9705-85565a1ca99b",
   "metadata": {},
   "outputs": [
    {
     "data": {
      "text/html": [
       "<div>\n",
       "<style scoped>\n",
       "    .dataframe tbody tr th:only-of-type {\n",
       "        vertical-align: middle;\n",
       "    }\n",
       "\n",
       "    .dataframe tbody tr th {\n",
       "        vertical-align: top;\n",
       "    }\n",
       "\n",
       "    .dataframe thead th {\n",
       "        text-align: right;\n",
       "    }\n",
       "</style>\n",
       "<table border=\"1\" class=\"dataframe\">\n",
       "  <thead>\n",
       "    <tr style=\"text-align: right;\">\n",
       "      <th></th>\n",
       "      <th>price</th>\n",
       "      <th>year</th>\n",
       "      <th>manufacturer</th>\n",
       "      <th>condition</th>\n",
       "      <th>cylinders</th>\n",
       "      <th>fuel</th>\n",
       "      <th>odometer</th>\n",
       "      <th>title_status</th>\n",
       "      <th>transmission</th>\n",
       "      <th>drive</th>\n",
       "      <th>type</th>\n",
       "    </tr>\n",
       "  </thead>\n",
       "  <tbody>\n",
       "    <tr>\n",
       "      <th>0</th>\n",
       "      <td>28900</td>\n",
       "      <td>2009.0</td>\n",
       "      <td>cadillac</td>\n",
       "      <td>excellent</td>\n",
       "      <td>8</td>\n",
       "      <td>gas</td>\n",
       "      <td>61000.0</td>\n",
       "      <td>clean</td>\n",
       "      <td>automatic</td>\n",
       "      <td>rwd</td>\n",
       "      <td>sedan</td>\n",
       "    </tr>\n",
       "    <tr>\n",
       "      <th>1</th>\n",
       "      <td>8000</td>\n",
       "      <td>2010.0</td>\n",
       "      <td>ford</td>\n",
       "      <td>like new</td>\n",
       "      <td>8</td>\n",
       "      <td>other</td>\n",
       "      <td>122000.0</td>\n",
       "      <td>clean</td>\n",
       "      <td>automatic</td>\n",
       "      <td>rwd</td>\n",
       "      <td>van</td>\n",
       "    </tr>\n",
       "    <tr>\n",
       "      <th>2</th>\n",
       "      <td>41500</td>\n",
       "      <td>2016.0</td>\n",
       "      <td>ford</td>\n",
       "      <td>good</td>\n",
       "      <td>8</td>\n",
       "      <td>diesel</td>\n",
       "      <td>130555.0</td>\n",
       "      <td>clean</td>\n",
       "      <td>automatic</td>\n",
       "      <td>4wd</td>\n",
       "      <td>truck</td>\n",
       "    </tr>\n",
       "    <tr>\n",
       "      <th>3</th>\n",
       "      <td>11950</td>\n",
       "      <td>2009.0</td>\n",
       "      <td>ford</td>\n",
       "      <td>excellent</td>\n",
       "      <td>8</td>\n",
       "      <td>gas</td>\n",
       "      <td>140000.0</td>\n",
       "      <td>clean</td>\n",
       "      <td>automatic</td>\n",
       "      <td>4wd</td>\n",
       "      <td>truck</td>\n",
       "    </tr>\n",
       "    <tr>\n",
       "      <th>4</th>\n",
       "      <td>9333</td>\n",
       "      <td>2016.0</td>\n",
       "      <td>jeep</td>\n",
       "      <td>excellent</td>\n",
       "      <td>4</td>\n",
       "      <td>gas</td>\n",
       "      <td>74783.0</td>\n",
       "      <td>clean</td>\n",
       "      <td>automatic</td>\n",
       "      <td>fwd</td>\n",
       "      <td>SUV</td>\n",
       "    </tr>\n",
       "  </tbody>\n",
       "</table>\n",
       "</div>"
      ],
      "text/plain": [
       "   price    year manufacturer  condition  cylinders    fuel  odometer  \\\n",
       "0  28900  2009.0     cadillac  excellent          8     gas   61000.0   \n",
       "1   8000  2010.0         ford   like new          8   other  122000.0   \n",
       "2  41500  2016.0         ford       good          8  diesel  130555.0   \n",
       "3  11950  2009.0         ford  excellent          8     gas  140000.0   \n",
       "4   9333  2016.0         jeep  excellent          4     gas   74783.0   \n",
       "\n",
       "  title_status transmission drive   type  \n",
       "0        clean    automatic   rwd  sedan  \n",
       "1        clean    automatic   rwd    van  \n",
       "2        clean    automatic   4wd  truck  \n",
       "3        clean    automatic   4wd  truck  \n",
       "4        clean    automatic   fwd    SUV  "
      ]
     },
     "execution_count": 2,
     "metadata": {},
     "output_type": "execute_result"
    }
   ],
   "source": [
    "data = pd.read_csv(\"clean_vehicles.csv\")\n",
    "data.head()"
   ]
  },
  {
   "cell_type": "code",
   "execution_count": 3,
   "id": "babf867e-606b-4c34-b986-fb282ec1634f",
   "metadata": {},
   "outputs": [],
   "source": [
    "target = data.pop(\"price\")\n",
    "features = data"
   ]
  },
  {
   "cell_type": "code",
   "execution_count": 4,
   "id": "9f95ad21-6ed2-4285-9da0-1df7e1881de9",
   "metadata": {},
   "outputs": [
    {
     "name": "stdout",
     "output_type": "stream",
     "text": [
      "<class 'pandas.core.frame.DataFrame'>\n",
      "RangeIndex: 7448 entries, 0 to 7447\n",
      "Data columns (total 10 columns):\n",
      " #   Column        Non-Null Count  Dtype  \n",
      "---  ------        --------------  -----  \n",
      " 0   year          7448 non-null   float64\n",
      " 1   manufacturer  7448 non-null   object \n",
      " 2   condition     7448 non-null   object \n",
      " 3   cylinders     7448 non-null   int64  \n",
      " 4   fuel          7448 non-null   object \n",
      " 5   odometer      7448 non-null   float64\n",
      " 6   title_status  7448 non-null   object \n",
      " 7   transmission  7448 non-null   object \n",
      " 8   drive         7448 non-null   object \n",
      " 9   type          7448 non-null   object \n",
      "dtypes: float64(2), int64(1), object(7)\n",
      "memory usage: 582.0+ KB\n"
     ]
    }
   ],
   "source": [
    "features.info()"
   ]
  },
  {
   "cell_type": "code",
   "execution_count": 5,
   "id": "8d12db7f-c04a-411f-b1de-4c67aeea751e",
   "metadata": {},
   "outputs": [],
   "source": [
    "train_features, test_features, train_target, test_target = train_test_split(features, target, test_size=0.3)"
   ]
  },
  {
   "cell_type": "code",
   "execution_count": 6,
   "id": "541735d4-ce30-4e65-aa3f-1f3cf70500d6",
   "metadata": {},
   "outputs": [],
   "source": [
    "categorical_preproc = OneHotEncoder(handle_unknown=\"ignore\")\n",
    "categorical_feature_list =  [\n",
    "    \"manufacturer\",\n",
    "    \"condition\",\n",
    "    \"fuel\",\n",
    "    \"title_status\",\n",
    "    \"transmission\",\n",
    "    \"drive\",\n",
    "    \"type\"\n",
    "    \n",
    "]\n",
    "\n",
    "numerical_preprocessing = StandardScaler()\n",
    "numerical_feature_list= [\n",
    "    \"year\", \n",
    "    \"cylinders\",\n",
    "    \"odometer\",\n",
    "]"
   ]
  },
  {
   "cell_type": "code",
   "execution_count": 7,
   "id": "ce8543aa-ca39-4f53-b32c-b5f322e09b04",
   "metadata": {},
   "outputs": [],
   "source": [
    "preproc = ColumnTransformer(\n",
    "    transformers=[\n",
    "        (\"cat_transform\", categorical_preproc, categorical_feature_list),\n",
    "        (\"num_transform\", numerical_preprocessing, numerical_feature_list)\n",
    "    ],\n",
    ")"
   ]
  },
  {
   "cell_type": "code",
   "execution_count": 8,
   "id": "9548679c-6ee9-4607-8c7c-5da1547183ff",
   "metadata": {},
   "outputs": [
    {
     "data": {
      "text/plain": [
       "Pipeline(steps=[('columntransformer',\n",
       "                 ColumnTransformer(transformers=[('cat_transform',\n",
       "                                                  OneHotEncoder(handle_unknown='ignore'),\n",
       "                                                  ['manufacturer', 'condition',\n",
       "                                                   'fuel', 'title_status',\n",
       "                                                   'transmission', 'drive',\n",
       "                                                   'type']),\n",
       "                                                 ('num_transform',\n",
       "                                                  StandardScaler(),\n",
       "                                                  ['year', 'cylinders',\n",
       "                                                   'odometer'])])),\n",
       "                ('linearregression', LinearRegression())])"
      ]
     },
     "execution_count": 8,
     "metadata": {},
     "output_type": "execute_result"
    }
   ],
   "source": [
    "\n",
    "\n",
    "pipe = make_pipeline(preproc, LinearRegression())\n",
    "pipe.fit(train_features, train_target)"
   ]
  },
  {
   "cell_type": "code",
   "execution_count": 9,
   "id": "d3a071f9-d375-4ee3-ab2b-131b243fb7d0",
   "metadata": {},
   "outputs": [
    {
     "name": "stdout",
     "output_type": "stream",
     "text": [
      "Mean Absolute Error: 5120.71\n",
      "Root Mean Squared Error: 7915.09\n"
     ]
    }
   ],
   "source": [
    "predictions = pipe.predict(train_features)\n",
    "\n",
    "mae_metric = mean_absolute_error(train_target, predictions)\n",
    "rmse_metric = mean_squared_error(train_target, predictions, squared=False)\n",
    "\n",
    "print(f\"Mean Absolute Error: {mae_metric:.2f}\")\n",
    "print(f\"Root Mean Squared Error: {rmse_metric:.2f}\")"
   ]
  },
  {
   "cell_type": "code",
   "execution_count": 10,
   "id": "990ab64d-8475-40d7-8d5f-ce709e7eb606",
   "metadata": {},
   "outputs": [
    {
     "name": "stdout",
     "output_type": "stream",
     "text": [
      "Mean Absolute Error: 5411.56\n",
      "Root Mean Squared Error: 10621.88\n"
     ]
    }
   ],
   "source": [
    "predictions = pipe.predict(test_features)\n",
    "\n",
    "mae_metric = mean_absolute_error(test_target, predictions)\n",
    "rmse_metric = mean_squared_error(test_target, predictions, squared=False)\n",
    "\n",
    "print(f\"Mean Absolute Error: {mae_metric:.2f}\")\n",
    "print(f\"Root Mean Squared Error: {rmse_metric:.2f}\")"
   ]
  },
  {
   "cell_type": "code",
   "execution_count": 11,
   "id": "c3bcc33d-1f86-47f5-9842-700ecd218245",
   "metadata": {},
   "outputs": [
    {
     "data": {
      "text/plain": [
       "array([-3.21503788e+03,  7.77297812e+03, -1.97628737e+03, -2.63578066e+03,\n",
       "       -1.73455932e+03, -1.20456094e+02, -2.25679024e+03, -3.70060349e+03,\n",
       "        8.10908535e+03, -4.17663345e+03, -4.17015757e+03, -2.51910765e+03,\n",
       "       -1.01579716e+03, -2.67346691e+03, -3.18561784e+03, -3.93248391e+03,\n",
       "       -2.84018728e+02,  1.27589622e+01, -3.23386185e+03, -8.12917176e+02,\n",
       "       -1.84569567e+03, -3.55179019e+03, -6.87260445e+02, -3.92184688e+03,\n",
       "       -4.31411048e+03, -5.47776453e+03, -3.22940530e+03, -2.45607771e+03,\n",
       "        1.44388884e+04, -3.11026165e+03,  8.67564390e+03, -4.99057524e+03,\n",
       "       -2.21794528e+03,  4.64556185e+04, -1.15455840e+03, -3.56146871e+03,\n",
       "       -3.30263538e+03, -1.54056264e+03, -6.28282876e+03, -2.17312604e+03,\n",
       "        1.68838864e+03,  1.49400727e+04, -6.63194385e+03,  4.84368759e+03,\n",
       "        2.02531046e+03, -2.55653521e+03, -2.49738225e+03, -1.81508059e+03,\n",
       "       -2.12177309e+03,  1.93349486e+03,  9.11203567e+03, -2.81555967e+03,\n",
       "       -3.47831668e+03, -2.62988109e+03, -1.79134426e+03, -5.64604786e+02,\n",
       "        2.35594904e+03,  1.42263417e+03, -1.53653469e+03,  1.13900517e+02,\n",
       "       -2.11199294e+03,  1.45535576e+03,  2.22144471e+03,  1.78526828e+03,\n",
       "       -2.44204099e+03, -8.35256375e+02, -1.52648729e+03,  3.31272708e+03,\n",
       "        2.80260384e+03, -2.86655045e+03,  8.52703885e+02, -2.39646873e+02,\n",
       "       -2.40812864e+03,  2.75915586e+03,  7.26627191e+02, -1.16125169e+03])"
      ]
     },
     "execution_count": 11,
     "metadata": {},
     "output_type": "execute_result"
    }
   ],
   "source": [
    "pipe['linearregression'].coef_"
   ]
  },
  {
   "cell_type": "code",
   "execution_count": 12,
   "id": "22cb27f3-d637-4b08-a374-584cdb9fa376",
   "metadata": {},
   "outputs": [
    {
     "name": "stdout",
     "output_type": "stream",
     "text": [
      "Feature: 0, Score: -3215.03788\n",
      "Feature: 1, Score: 7772.97812\n",
      "Feature: 2, Score: -1976.28737\n",
      "Feature: 3, Score: -2635.78066\n",
      "Feature: 4, Score: -1734.55932\n",
      "Feature: 5, Score: -120.45609\n",
      "Feature: 6, Score: -2256.79024\n",
      "Feature: 7, Score: -3700.60349\n",
      "Feature: 8, Score: 8109.08535\n",
      "Feature: 9, Score: -4176.63345\n",
      "Feature: 10, Score: -4170.15757\n",
      "Feature: 11, Score: -2519.10765\n",
      "Feature: 12, Score: -1015.79716\n",
      "Feature: 13, Score: -2673.46691\n",
      "Feature: 14, Score: -3185.61784\n",
      "Feature: 15, Score: -3932.48391\n",
      "Feature: 16, Score: -284.01873\n",
      "Feature: 17, Score: 12.75896\n",
      "Feature: 18, Score: -3233.86185\n",
      "Feature: 19, Score: -812.91718\n",
      "Feature: 20, Score: -1845.69567\n",
      "Feature: 21, Score: -3551.79019\n",
      "Feature: 22, Score: -687.26044\n",
      "Feature: 23, Score: -3921.84688\n",
      "Feature: 24, Score: -4314.11048\n",
      "Feature: 25, Score: -5477.76453\n",
      "Feature: 26, Score: -3229.40530\n",
      "Feature: 27, Score: -2456.07771\n",
      "Feature: 28, Score: 14438.88840\n",
      "Feature: 29, Score: -3110.26165\n",
      "Feature: 30, Score: 8675.64390\n",
      "Feature: 31, Score: -4990.57524\n",
      "Feature: 32, Score: -2217.94528\n",
      "Feature: 33, Score: 46455.61845\n",
      "Feature: 34, Score: -1154.55840\n",
      "Feature: 35, Score: -3561.46871\n",
      "Feature: 36, Score: -3302.63538\n",
      "Feature: 37, Score: -1540.56264\n",
      "Feature: 38, Score: -6282.82876\n",
      "Feature: 39, Score: -2173.12604\n",
      "Feature: 40, Score: 1688.38864\n",
      "Feature: 41, Score: 14940.07265\n",
      "Feature: 42, Score: -6631.94385\n",
      "Feature: 43, Score: 4843.68759\n",
      "Feature: 44, Score: 2025.31046\n",
      "Feature: 45, Score: -2556.53521\n",
      "Feature: 46, Score: -2497.38225\n",
      "Feature: 47, Score: -1815.08059\n",
      "Feature: 48, Score: -2121.77309\n",
      "Feature: 49, Score: 1933.49486\n",
      "Feature: 50, Score: 9112.03567\n",
      "Feature: 51, Score: -2815.55967\n",
      "Feature: 52, Score: -3478.31668\n",
      "Feature: 53, Score: -2629.88109\n",
      "Feature: 54, Score: -1791.34426\n",
      "Feature: 55, Score: -564.60479\n",
      "Feature: 56, Score: 2355.94904\n",
      "Feature: 57, Score: 1422.63417\n",
      "Feature: 58, Score: -1536.53469\n",
      "Feature: 59, Score: 113.90052\n",
      "Feature: 60, Score: -2111.99294\n",
      "Feature: 61, Score: 1455.35576\n",
      "Feature: 62, Score: 2221.44471\n",
      "Feature: 63, Score: 1785.26828\n",
      "Feature: 64, Score: -2442.04099\n",
      "Feature: 65, Score: -835.25637\n",
      "Feature: 66, Score: -1526.48729\n",
      "Feature: 67, Score: 3312.72708\n",
      "Feature: 68, Score: 2802.60384\n",
      "Feature: 69, Score: -2866.55045\n",
      "Feature: 70, Score: 852.70389\n",
      "Feature: 71, Score: -239.64687\n",
      "Feature: 72, Score: -2408.12864\n",
      "Feature: 73, Score: 2759.15586\n",
      "Feature: 74, Score: 726.62719\n",
      "Feature: 75, Score: -1161.25169\n"
     ]
    },
    {
     "data": {
      "image/png": "[encoded data removed]",
      "text/plain": [
       "<Figure size 432x288 with 1 Axes>"
      ]
     },
     "metadata": {
      "needs_background": "light"
     },
     "output_type": "display_data"
    }
   ],
   "source": [
    "import matplotlib.pyplot as plt\n",
    "model = pipe['linearregression']\n",
    "importance = model.coef_\n",
    "\n",
    "for i,v in enumerate(importance):\n",
    "    print('Feature: %0d, Score: %.5f' % (i,v))\n",
    "# plot feature importance\n",
    "plt.bar([x for x in range(len(importance))], importance)\n",
    "plt.show()"
   ]
  },
  {
   "cell_type": "code",
   "execution_count": 13,
   "id": "aace9f4b-5b1a-42eb-867d-c5105802cae0",
   "metadata": {},
   "outputs": [
    {
     "data": {
      "text/plain": [
       "['model.pkl']"
      ]
     },
     "execution_count": 13,
     "metadata": {},
     "output_type": "execute_result"
    }
   ],
   "source": [
    "import joblib\n",
    "joblib.dump(pipe, 'model.pkl')"
   ]
  },
  {
   "cell_type": "code",
   "execution_count": null,
   "id": "89b41c0b-55c6-48e7-bf41-719b626aaefa",
   "metadata": {},
   "outputs": [],
   "source": []
  }
 ],
 "metadata": {
  "kernelspec": {
   "display_name": "Python 3.6.13 64-bit ('mlops': conda)",
   "language": "python",
   "name": "python3613jvsc74a57bd0ca9cbc678ce4b6edf4607da2742a10dd8519fe2f3e82dadaab70e9238baed1d4"
  },
  "language_info": {
   "codemirror_mode": {
    "name": "ipython",
    "version": 3
   },
   "file_extension": ".py",
   "mimetype": "text/x-python",
   "name": "python",
   "nbconvert_exporter": "python",
   "pygments_lexer": "ipython3",
   "version": "3.6.13"
  }
 },
 "nbformat": 4,
 "nbformat_minor": 5
}
